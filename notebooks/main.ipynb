{
 "cells": [
  {
   "cell_type": "markdown",
   "metadata": {},
   "source": [
    "## Carregar o arquivo .Json"
   ]
  },
  {
   "cell_type": "code",
   "execution_count": 1,
   "metadata": {},
   "outputs": [
    {
     "data": {
      "text/plain": [
       "{'Temu': {'titulo': 'Temu: Compre como um bilionário',\n",
       "  'descrição': 'Compre na Temu e receba ofertas exclusivas. Não importa o que você esteja procurando, a Temu tem o que você precisa, incluindo moda, decoração para casa, artesanato, beleza e cosméticos, roupas, sapatos e muito mais. Baixe o app da Temu hoje mesmo e aproveite ofertas incríveis diariamente.',\n",
       "  'store': 'google'},\n",
       " 'Shopee': {'titulo': 'Shopee: 11.11 A Maior Liquida',\n",
       "  'descrição': 'No 11.11 A Maior Liquida você economiza nas suas compras online com os melhores preços do ano! Quer promoção de verdade? Olha na Shopee! De 28 de outubro a 12 de novembro, você poderá aproveitar as diversas ofertas e vantagens na Shopee, como R$ 11 milhões em cupons e frete grátis* (*Confira as condições de frete grátis e o valor mínimo de compra no aplicativo).',\n",
       "  'store': 'google'},\n",
       " 'AliExpress': {'titulo': 'AliExpress: Compras online',\n",
       "  'descrição': 'Venha para o AliExpress: Seu Aplicativo de Compra Favorito! Procurando um produto e não encontra em lugar nenhum? Com o aplicativo de compras internacionais da AliExpress, você tem um mundo de opções e vantagens nas suas mãos! Baixe agora mesmo e descubra o melhor das lojas on-line em um só lugar. Ofertas imperdíveis para economizar!',\n",
       "  'store': 'google'},\n",
       " 'Mercado Livre': {'titulo': 'Mercado Livre',\n",
       "  'descrição': 'Agora baixe o aplicativo Mercado Livre e na sua primeira compra no app você pode aproveitar frete grátis e ofertas exclusivas no Mercado Livre! Encontre preços imperdíveis em categorias como eletrodomésticos, móveis, decoração, esportes, eletrônicos, smartphones, e muito mais.',\n",
       "  'store': 'google'},\n",
       " 'Amazon Shopping': {'titulo': 'Amazon Shopping',\n",
       "  'descrição': 'Busque produtos, compare preços, leia avaliações e compre onde e quando quiser com o app da Amazon. Frete GRÁTIS para membros Prime. Assine o Amazon Prime e aproveite frete GRÁTIS sem valor mínimo de compra em produtos com o selo Prime. Com a sua assinatura Prime, você tem frete GRÁTIS rápido, ilimitado e para todo o Brasil. Procure pelo selo Prime nos produtos para aproveitar esse benefício.',\n",
       "  'store': 'google'}}"
      ]
     },
     "execution_count": 1,
     "metadata": {},
     "output_type": "execute_result"
    }
   ],
   "source": [
    "import os\n",
    "import json\n",
    "\n",
    "# Definir o caminho para o arquivo\n",
    "file_path = os.path.join('..', 'data', 'stores.json')\n",
    "\n",
    "# Carregar o arquivo JSON\n",
    "with open(file_path, 'r', encoding='utf-8') as f:\n",
    "    apps_data = json.load(f)\n",
    "\n",
    "# Exibir os dados carregados\n",
    "apps_data\n"
   ]
  },
  {
   "cell_type": "markdown",
   "metadata": {},
   "source": [
    "## Análise de Palavras-Chave"
   ]
  },
  {
   "cell_type": "code",
   "execution_count": 2,
   "metadata": {},
   "outputs": [
    {
     "name": "stderr",
     "output_type": "stream",
     "text": [
      "[nltk_data] Downloading package punkt to\n",
      "[nltk_data]     C:\\Users\\marcio.nogueira\\AppData\\Roaming\\nltk_data...\n",
      "[nltk_data]   Package punkt is already up-to-date!\n"
     ]
    },
    {
     "data": {
      "text/plain": [
       "True"
      ]
     },
     "execution_count": 2,
     "metadata": {},
     "output_type": "execute_result"
    }
   ],
   "source": [
    "import nltk\n",
    "nltk.download('punkt')\n"
   ]
  },
  {
   "cell_type": "code",
   "execution_count": 3,
   "metadata": {},
   "outputs": [
    {
     "name": "stdout",
     "output_type": "stream",
     "text": [
      "App: Temu\n",
      "Palavras-chave filtradas:\n",
      "['diariamente', 'casa', 'procurando', 'moda', 'app', 'artesanato', 'decoração', 'incluindo', 'exclusivas', 'sapatos', 'roupas', 'baixe', 'incríveis', 'beleza', 'temu', 'aproveite', 'hoje', 'compre', 'cosméticos', 'receba', 'precisa', 'ofertas', 'importa']\n",
      "\n",
      "App: Shopee\n",
      "Palavras-chave filtradas:\n",
      "['(*', 'grátis', 'compras', 'vantagens', 'verdade', 'compra', 'outubro', 'confira', 'condições', '11', '28', 'olha', 'aproveitar', ').', 'melhores', 'diversas', 'poderá', 'liquida', 'economiza', 'milhões', 'novembro', '12', 'valor', 'online', 'preços', 'cupons', 'quer', 'r', 'frete', 'shopee', 'ano', 'maior', 'ofertas', 'promoção', 'aplicativo', 'mínimo']\n",
      "\n",
      "App: AliExpress\n",
      "Palavras-chave filtradas:\n",
      "['opções', 'aliexpress', 'on', 'compras', 'vantagens', 'compra', 'procurando', 'economizar', 'lojas', 'produto', 'venha', 'melhor', 'line', 'baixe', 'nenhum', 'favorito', 'mundo', 'internacionais', 'descubra', 'encontra', 'agora', 'ofertas', 'lugar', 'aplicativo', 'mãos', 'imperdíveis']\n",
      "\n",
      "App: Mercado Livre\n",
      "Palavras-chave filtradas:\n",
      "['mercado', 'grátis', 'livre', 'eletrodomésticos', 'compra', 'primeira', 'smartphones', 'app', 'decoração', 'móveis', 'aproveitar', 'exclusivas', 'pode', 'baixe', 'preços', 'eletrônicos', 'categorias', 'frete', 'encontre', 'agora', 'ofertas', 'aplicativo', 'esportes', 'imperdíveis']\n",
      "\n",
      "App: Amazon Shopping\n",
      "Palavras-chave filtradas:\n",
      "['ilimitado', 'onde', 'grátis', 'quiser', 'compra', 'app', 'membros', 'assinatura', 'avaliações', 'brasil', 'aproveitar', 'todo', 'leia', 'compare', 'produtos', 'procure', 'assine', 'aproveite', 'valor', 'compre', 'preços', 'selo', 'frete', 'benefício', 'rápido', 'amazon', 'mínimo', 'busque', 'prime']\n",
      "\n"
     ]
    },
    {
     "name": "stderr",
     "output_type": "stream",
     "text": [
      "[nltk_data] Downloading package stopwords to\n",
      "[nltk_data]     C:\\Users\\marcio.nogueira\\AppData\\Roaming\\nltk_data...\n",
      "[nltk_data]   Package stopwords is already up-to-date!\n"
     ]
    }
   ],
   "source": [
    "from rake_nltk import Rake\n",
    "import openai\n",
    "from dotenv import load_dotenv\n",
    "import os\n",
    "import nltk\n",
    "from nltk.corpus import stopwords\n",
    "\n",
    "# Carregar variáveis do arquivo .env\n",
    "load_dotenv()\n",
    "\n",
    "# Recuperar a chave da API do OpenAI do arquivo .env\n",
    "openai_api_key = os.getenv('OPENAI_API_KEY')\n",
    "\n",
    "# Baixar stop words do NLTK (se ainda não estiverem baixadas)\n",
    "nltk.download('stopwords')\n",
    "\n",
    "# Obter stop words em português\n",
    "stop_words = set(stopwords.words('portuguese'))\n",
    "\n",
    "# Função para extrair palavras-chave usando RAKE\n",
    "def extrair_palavras_chave_rake(descricao):\n",
    "    r = Rake(language='portuguese')  # Configura o Rake para português\n",
    "    r.extract_keywords_from_text(descricao)\n",
    "    \n",
    "    # Obter as palavras-chave ordenadas por relevância\n",
    "    palavras_chave = r.get_ranked_phrases()\n",
    "    \n",
    "    # Filtrar palavras-chave para remover duplicatas e stop words\n",
    "    palavras_chave_filtradas = set()\n",
    "    \n",
    "    for frase in palavras_chave:\n",
    "        # Dividir a frase em palavras\n",
    "        palavras = frase.split()\n",
    "        # Adicionar palavras que não estão na lista de stop words\n",
    "        for palavra in palavras:\n",
    "            if palavra.lower() not in stop_words:\n",
    "                palavras_chave_filtradas.add(palavra.lower())\n",
    "    \n",
    "    return list(palavras_chave_filtradas)\n",
    "\n",
    "# Processar as descrições de cada aplicativo e extrair palavras-chave\n",
    "for app, data in apps_data.items():\n",
    "    descricao = data['descrição']\n",
    "    \n",
    "    print(f\"App: {app}\")\n",
    "    \n",
    "    # Extrair palavras-chave usando RAKE\n",
    "    palavras_chave = extrair_palavras_chave_rake(descricao)\n",
    "    \n",
    "    print(\"Palavras-chave filtradas:\")\n",
    "    print(palavras_chave)\n",
    "    print()\n"
   ]
  },
  {
   "cell_type": "code",
   "execution_count": 8,
   "metadata": {},
   "outputs": [
    {
     "name": "stdout",
     "output_type": "stream",
     "text": [
      "Palavras mais frequentes nos títulos: [('temu', 1), ('compre', 1), ('bilionário', 1), ('shopee', 1), ('1111', 1), ('maior', 1), ('liquida', 1), ('aliexpress', 1), ('compras', 1), ('online', 1)]\n",
      "Palavras mais frequentes nas descrições: [('procurando', 2), ('frete', 2), ('grátis', 2), ('aplicativo', 2), ('compra', 2), ('temu', 1), ('ofertas', 1), ('compre', 1), ('receba', 1), ('exclusivas', 1)]\n"
     ]
    }
   ],
   "source": [
    "import nltk\n",
    "from nltk.corpus import stopwords\n",
    "from collections import Counter\n",
    "import re\n",
    "\n",
    "# Função para extrair palavras-chave\n",
    "def extrair_palavras_chaves(texto):\n",
    "    # Remover pontuação e colocar tudo em minúsculas\n",
    "    texto_limpo = re.sub(r'[^\\w\\s]', '', texto.lower())\n",
    "    \n",
    "    # Tokenização\n",
    "    palavras = nltk.word_tokenize(texto_limpo)\n",
    "    \n",
    "    # Remover stop words\n",
    "    palavras_sem_stop = [palavra for palavra in palavras if palavra not in stopwords.words('portuguese')]\n",
    "    \n",
    "    # Contar a frequência das palavras\n",
    "    contagem = Counter(palavras_sem_stop)\n",
    "    \n",
    "    # Obter as 10 palavras mais comuns\n",
    "    palavras_chaves = contagem.most_common(10)\n",
    "    \n",
    "    return [palavra for palavra, _ in palavras_chaves]\n",
    "\n",
    "# Contar palavras nos títulos e descrições\n",
    "palavras_titulos = Counter()\n",
    "palavras_descricoes = Counter()\n",
    "\n",
    "for app, data in apps_data.items():\n",
    "    if 'titulo' in data and 'descrição' in data:\n",
    "        palavras_titulos.update(extrair_palavras_chaves(data['titulo']))\n",
    "        palavras_descricoes.update(extrair_palavras_chaves(data['descrição']))\n",
    "\n",
    "# Imprimir as palavras mais frequentes\n",
    "print(\"Palavras mais frequentes nos títulos:\", palavras_titulos.most_common(10))\n",
    "print(\"Palavras mais frequentes nas descrições:\", palavras_descricoes.most_common(10))\n"
   ]
  },
  {
   "cell_type": "code",
   "execution_count": 9,
   "metadata": {},
   "outputs": [
    {
     "name": "stdout",
     "output_type": "stream",
     "text": [
      "Palavras mais frequentes nos títulos: [('11', 2), ('temu', 1), ('compre', 1), ('como', 1), ('um', 1), ('bilionário', 1), ('shopee', 1), ('a', 1), ('maior', 1), ('liquida', 1)]\n",
      "Palavras mais frequentes nas descrições: [('e', 17), ('o', 12), ('de', 10), ('você', 7), ('para', 6), ('frete', 6), ('grátis', 6), ('ofertas', 5), ('com', 5), ('em', 5)]\n"
     ]
    }
   ],
   "source": [
    "from collections import Counter\n",
    "import re\n",
    "\n",
    "# Função para contar palavras\n",
    "def contar_palavras(text):\n",
    "    words = re.findall(r'\\b\\w+\\b', text.lower())\n",
    "    return Counter(words)\n",
    "\n",
    "# Contar palavras nos títulos e descrições\n",
    "palavras_titulos = Counter()\n",
    "palavras_descricoes = Counter()\n",
    "\n",
    "for app, data in apps_data.items():\n",
    "    palavras_titulos.update(contar_palavras(data['titulo']))\n",
    "    palavras_descricoes.update(contar_palavras(data['descrição']))\n",
    "\n",
    "print(\"Palavras mais frequentes nos títulos:\", palavras_titulos.most_common(10))\n",
    "print(\"Palavras mais frequentes nas descrições:\", palavras_descricoes.most_common(10))\n"
   ]
  },
  {
   "cell_type": "markdown",
   "metadata": {},
   "source": [
    "## Análise de tamanho de títulos e Descrições"
   ]
  },
  {
   "cell_type": "code",
   "execution_count": 11,
   "metadata": {},
   "outputs": [
    {
     "name": "stdout",
     "output_type": "stream",
     "text": [
      "App: Temu\n",
      "Tamanho do título: 31 caracteres - EXCEDEU\n",
      "Tamanho da descrição: 290 caracteres - OK\n",
      "\n",
      "App: Shopee\n",
      "Tamanho do título: 29 caracteres - OK\n",
      "Tamanho da descrição: 364 caracteres - OK\n",
      "\n",
      "App: AliExpress\n",
      "Tamanho do título: 26 caracteres - OK\n",
      "Tamanho da descrição: 335 caracteres - OK\n",
      "\n",
      "App: Mercado Livre\n",
      "Tamanho do título: 13 caracteres - OK\n",
      "Tamanho da descrição: 277 caracteres - OK\n",
      "\n",
      "App: Amazon Shopping\n",
      "Tamanho do título: 15 caracteres - OK\n",
      "Tamanho da descrição: 395 caracteres - OK\n",
      "\n"
     ]
    }
   ],
   "source": [
    "# Limites recomendados para o Google Play\n",
    "limite_titulo = 30\n",
    "limite_descricao = 4000\n",
    "\n",
    "for app, data in apps_data.items():\n",
    "    tamanho_titulo = len(data['titulo'])\n",
    "    tamanho_descricao = len(data['descrição'])\n",
    "    \n",
    "    print(f\"App: {app}\")\n",
    "    print(f\"Tamanho do título: {tamanho_titulo} caracteres {'- OK' if tamanho_titulo <= limite_titulo else '- EXCEDEU'}\")\n",
    "    print(f\"Tamanho da descrição: {tamanho_descricao} caracteres {'- OK' if tamanho_descricao <= limite_descricao else '- EXCEDEU'}\")\n",
    "    print()\n"
   ]
  },
  {
   "cell_type": "markdown",
   "metadata": {},
   "source": [
    "## Contador de Densidade das palavras"
   ]
  },
  {
   "cell_type": "markdown",
   "metadata": {},
   "source": [
    "$$\n",
    "\\text{Densidade de uma palavra} = \\frac{N_{\\text{úmero de ocorrências da palavra}}}{N_{\\text{úmero total de palavras na descrição}}} \\times 100\n",
    "$$\n"
   ]
  },
  {
   "cell_type": "markdown",
   "metadata": {},
   "source": [
    "### Explicação do Código:\n",
    "- **Função `calcular_densidade_palavras(text)`**: Extrai as palavras da descrição, calcula o total de palavras e a densidade de cada uma.\n",
    "- **Densidade**: A densidade é calculada dividindo o número de ocorrências de cada palavra pelo número total de palavras e multiplicando por 100 para obter a porcentagem.\n",
    "- **Exibição**: Exibimos a densidade das 10 palavras mais frequentes em cada descrição."
   ]
  },
  {
   "cell_type": "code",
   "execution_count": 12,
   "metadata": {},
   "outputs": [
    {
     "name": "stdout",
     "output_type": "stream",
     "text": [
      "App: Temu\n",
      "Total de palavras na descrição: 47\n",
      "Densidade de palavras (em %):\n",
      "Palavra: 'e', Densidade: 8.51%\n",
      "Palavra: 'temu', Densidade: 6.38%\n",
      "Palavra: 'o', Densidade: 6.38%\n",
      "Palavra: 'ofertas', Densidade: 4.26%\n",
      "Palavra: 'que', Densidade: 4.26%\n",
      "Palavra: 'você', Densidade: 4.26%\n",
      "Palavra: 'compre', Densidade: 2.13%\n",
      "Palavra: 'na', Densidade: 2.13%\n",
      "Palavra: 'receba', Densidade: 2.13%\n",
      "Palavra: 'exclusivas', Densidade: 2.13%\n",
      "\n",
      "App: Shopee\n",
      "Total de palavras na descrição: 66\n",
      "Densidade de palavras (em %):\n",
      "Palavra: 'de', Densidade: 9.09%\n",
      "Palavra: '11', Densidade: 4.55%\n",
      "Palavra: 'e', Densidade: 4.55%\n",
      "Palavra: 'no', Densidade: 3.03%\n",
      "Palavra: 'a', Densidade: 3.03%\n",
      "Palavra: 'você', Densidade: 3.03%\n",
      "Palavra: 'na', Densidade: 3.03%\n",
      "Palavra: 'shopee', Densidade: 3.03%\n",
      "Palavra: 'as', Densidade: 3.03%\n",
      "Palavra: 'frete', Densidade: 3.03%\n",
      "\n",
      "App: AliExpress\n",
      "Total de palavras na descrição: 56\n",
      "Densidade de palavras (em %):\n",
      "Palavra: 'o', Densidade: 5.36%\n",
      "Palavra: 'de', Densidade: 5.36%\n",
      "Palavra: 'um', Densidade: 5.36%\n",
      "Palavra: 'e', Densidade: 5.36%\n",
      "Palavra: 'para', Densidade: 3.57%\n",
      "Palavra: 'aliexpress', Densidade: 3.57%\n",
      "Palavra: 'aplicativo', Densidade: 3.57%\n",
      "Palavra: 'em', Densidade: 3.57%\n",
      "Palavra: 'lugar', Densidade: 3.57%\n",
      "Palavra: 'venha', Densidade: 1.79%\n",
      "\n",
      "App: Mercado Livre\n",
      "Total de palavras na descrição: 39\n",
      "Densidade de palavras (em %):\n",
      "Palavra: 'e', Densidade: 7.69%\n",
      "Palavra: 'mercado', Densidade: 5.13%\n",
      "Palavra: 'livre', Densidade: 5.13%\n",
      "Palavra: 'no', Densidade: 5.13%\n",
      "Palavra: 'agora', Densidade: 2.56%\n",
      "Palavra: 'baixe', Densidade: 2.56%\n",
      "Palavra: 'o', Densidade: 2.56%\n",
      "Palavra: 'aplicativo', Densidade: 2.56%\n",
      "Palavra: 'na', Densidade: 2.56%\n",
      "Palavra: 'sua', Densidade: 2.56%\n",
      "\n",
      "App: Amazon Shopping\n",
      "Total de palavras na descrição: 67\n",
      "Densidade de palavras (em %):\n",
      "Palavra: 'prime', Densidade: 7.46%\n",
      "Palavra: 'e', Densidade: 5.97%\n",
      "Palavra: 'o', Densidade: 5.97%\n",
      "Palavra: 'produtos', Densidade: 4.48%\n",
      "Palavra: 'com', Densidade: 4.48%\n",
      "Palavra: 'frete', Densidade: 4.48%\n",
      "Palavra: 'grátis', Densidade: 4.48%\n",
      "Palavra: 'para', Densidade: 4.48%\n",
      "Palavra: 'amazon', Densidade: 2.99%\n",
      "Palavra: 'selo', Densidade: 2.99%\n",
      "\n"
     ]
    }
   ],
   "source": [
    "import re\n",
    "from collections import Counter\n",
    "\n",
    "# Função para contar palavras em um texto e calcular a densidade\n",
    "def calcular_densidade_palavras(text):\n",
    "    # Transformar em minúsculas e contar todas as palavras\n",
    "    palavras = re.findall(r'\\b\\w+\\b', text.lower())\n",
    "    total_palavras = len(palavras)\n",
    "    contagem_palavras = Counter(palavras)\n",
    "    \n",
    "    # Calcular a densidade para cada palavra\n",
    "    densidade_palavras = {palavra: (contagem / total_palavras) * 100 for palavra, contagem in contagem_palavras.items()}\n",
    "    \n",
    "    return densidade_palavras, total_palavras\n",
    "\n",
    "# Calcular densidade de palavras nas descrições dos aplicativos\n",
    "for app, data in apps_data.items():\n",
    "    descricao = data['descrição']\n",
    "    densidade, total_palavras = calcular_densidade_palavras(descricao)\n",
    "    \n",
    "    print(f\"App: {app}\")\n",
    "    print(f\"Total de palavras na descrição: {total_palavras}\")\n",
    "    print(f\"Densidade de palavras (em %):\")\n",
    "    \n",
    "    # Ordenar e exibir as palavras com maior densidade\n",
    "    densidade_ordenada = sorted(densidade.items(), key=lambda x: x[1], reverse=True)\n",
    "    \n",
    "    for palavra, densidade_perc in densidade_ordenada[:10]:  # Mostrar as 10 palavras mais frequentes\n",
    "        print(f\"Palavra: '{palavra}', Densidade: {densidade_perc:.2f}%\")\n",
    "    \n",
    "    print()\n"
   ]
  },
  {
   "cell_type": "markdown",
   "metadata": {},
   "source": [
    "## Gráfico de Densidade de Palavras"
   ]
  },
  {
   "cell_type": "markdown",
   "metadata": {},
   "source": []
  },
  {
   "cell_type": "code",
   "execution_count": null,
   "metadata": {},
   "outputs": [],
   "source": [
    "import matplotlib.pyplot as plt\n",
    "\n",
    "# Função para calcular densidade e plotar gráfico de barras\n",
    "def plotar_densidade_palavras(app, densidade_palavras):\n",
    "    # Ordenar as palavras pela densidade em ordem decrescente\n",
    "    densidade_ordenada = sorted(densidade_palavras.items(), key=lambda x: x[1], reverse=True)\n",
    "    \n",
    "    # Selecionar as 10 palavras com maior densidade\n",
    "    palavras = [item[0] for item in densidade_ordenada[:10]]\n",
    "    densidades = [item[1] for item in densidade_ordenada[:10]]\n",
    "    \n",
    "    # Criar o gráfico de barras\n",
    "    plt.figure(figsize=(10, 6))\n",
    "    plt.barh(palavras, densidades, color='skyblue')\n",
    "    plt.xlabel('Densidade (%)')\n",
    "    plt.ylabel('Palavras')\n",
    "    plt.title(f'Densidade das Principais Palavras na Descrição do App \"{app}\"')\n",
    "    plt.gca().invert_yaxis()  # Inverter para que as palavras com maior densidade fiquem no topo\n",
    "    plt.show()\n",
    "\n",
    "# Calcular e plotar a densidade para cada aplicativo\n",
    "for app, data in apps_data.items():\n",
    "    descricao = data['descrição']\n",
    "    densidade, total_palavras = calcular_densidade_palavras(descricao)\n",
    "    \n",
    "    print(f\"App: {app}\")\n",
    "    print(f\"Total de palavras na descrição: {total_palavras}\")\n",
    "    \n",
    "    # Plotar gráfico de densidade de palavras\n",
    "    plotar_densidade_palavras(app, densidade)\n"
   ]
  },
  {
   "cell_type": "markdown",
   "metadata": {},
   "source": [
    "## Chamada para Ação (CTA)\n",
    " Verificamos se as descrições contêm expressões comuns de CTA, como \"baixe agora\", \"aproveite\", \"descubra\", etc."
   ]
  },
  {
   "cell_type": "code",
   "execution_count": 13,
   "metadata": {},
   "outputs": [
    {
     "name": "stdout",
     "output_type": "stream",
     "text": [
      "App: Temu\n",
      "CTAs presentes: aproveite, compre\n",
      "\n",
      "App: Shopee\n",
      "Nenhuma CTA encontrada.\n",
      "\n",
      "App: AliExpress\n",
      "CTAs presentes: baixe agora, descubra\n",
      "\n",
      "App: Mercado Livre\n",
      "Nenhuma CTA encontrada.\n",
      "\n",
      "App: Amazon Shopping\n",
      "CTAs presentes: aproveite, compre\n",
      "\n"
     ]
    }
   ],
   "source": [
    "# Lista de CTAs comuns\n",
    "ctas_comuns = [\"baixe agora\", \"aproveite\", \"descubra\", \"compre\", \"não perca\"]\n",
    "\n",
    "# Verificar se as CTAs aparecem nas descrições\n",
    "for app, data in apps_data.items():\n",
    "    descricao = data['descrição'].lower()\n",
    "    ctas_presentes = [cta for cta in ctas_comuns if cta in descricao]\n",
    "    \n",
    "    print(f\"App: {app}\")\n",
    "    if ctas_presentes:\n",
    "        print(f\"CTAs presentes: {', '.join(ctas_presentes)}\")\n",
    "    else:\n",
    "        print(\"Nenhuma CTA encontrada.\")\n",
    "    print()\n"
   ]
  },
  {
   "cell_type": "markdown",
   "metadata": {},
   "source": [
    "## Foco em Promoções e Benefícios"
   ]
  },
  {
   "cell_type": "code",
   "execution_count": 14,
   "metadata": {},
   "outputs": [
    {
     "name": "stdout",
     "output_type": "stream",
     "text": [
      "App: Temu\n",
      "Promoções mencionadas: oferta\n",
      "\n",
      "App: Shopee\n",
      "Promoções mencionadas: frete grátis, oferta, promoção\n",
      "\n",
      "App: AliExpress\n",
      "Promoções mencionadas: oferta\n",
      "\n",
      "App: Mercado Livre\n",
      "Promoções mencionadas: frete grátis, oferta\n",
      "\n",
      "App: Amazon Shopping\n",
      "Promoções mencionadas: frete grátis\n",
      "\n"
     ]
    }
   ],
   "source": [
    "# Lista de palavras relacionadas a promoções\n",
    "palavras_promocao = [\"frete grátis\", \"oferta\", \"promoção\", \"desconto\", \"exclusivo\"]\n",
    "\n",
    "# Verificar se há menção a promoções nas descrições\n",
    "for app, data in apps_data.items():\n",
    "    descricao = data['descrição'].lower()\n",
    "    promocoes_presentes = [palavra for palavra in palavras_promocao if palavra in descricao]\n",
    "    \n",
    "    print(f\"App: {app}\")\n",
    "    if promocoes_presentes:\n",
    "        print(f\"Promoções mencionadas: {', '.join(promocoes_presentes)}\")\n",
    "    else:\n",
    "        print(\"Nenhuma promoção mencionada.\")\n",
    "    print()\n"
   ]
  },
  {
   "cell_type": "markdown",
   "metadata": {},
   "source": [
    "## Diferenciação de Concorrentes\n",
    "Comparação básicoa de como os concorrentes mencionam ofertas e vantagens"
   ]
  },
  {
   "cell_type": "code",
   "execution_count": null,
   "metadata": {},
   "outputs": [],
   "source": [
    "# Concorrentes: Shopee, AliExpress, Mercado Livre\n",
    "concorrentes = [\"Shopee\", \"AliExpress\", \"Mercado Livre\"]\n",
    "\n",
    "for concorrente in concorrentes:\n",
    "    if concorrente in apps_data:\n",
    "        descricao = apps_data[concorrente]['descrição']\n",
    "        print(f\"{concorrente} - Descrição: {descricao}\")\n",
    "        print()\n"
   ]
  },
  {
   "cell_type": "markdown",
   "metadata": {},
   "source": [
    "## Análise de Localização (Traduções)\n",
    "verificar se as descrições parecem apropriadas ao público brasileiro  (usaremos um simples verificador de expressões culturais)."
   ]
  },
  {
   "cell_type": "code",
   "execution_count": null,
   "metadata": {},
   "outputs": [],
   "source": [
    "# Palavras relacionadas à cultura brasileira\n",
    "palavras_locais = [\"brasil\", \"frete\", \"oferta\", \"reais\"]\n",
    "\n",
    "# Verificar se as descrições estão adaptadas ao Brasil\n",
    "for app, data in apps_data.items():\n",
    "    descricao = data['descrição'].lower()\n",
    "    locais_presentes = [palavra for palavra in palavras_locais if palavra in descricao]\n",
    "    \n",
    "    print(f\"App: {app}\")\n",
    "    if locais_presentes:\n",
    "        print(f\"Adaptações culturais encontradas: {', '.join(locais_presentes)}\")\n",
    "    else:\n",
    "        print(\"Nenhuma adaptação cultural encontrada.\")\n",
    "    print()\n"
   ]
  },
  {
   "cell_type": "markdown",
   "metadata": {},
   "source": []
  }
 ],
 "metadata": {
  "kernelspec": {
   "display_name": ".venv",
   "language": "python",
   "name": "python3"
  },
  "language_info": {
   "codemirror_mode": {
    "name": "ipython",
    "version": 3
   },
   "file_extension": ".py",
   "mimetype": "text/x-python",
   "name": "python",
   "nbconvert_exporter": "python",
   "pygments_lexer": "ipython3",
   "version": "3.12.6"
  }
 },
 "nbformat": 4,
 "nbformat_minor": 2
}
